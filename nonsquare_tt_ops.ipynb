{
 "cells": [
  {
   "cell_type": "code",
   "execution_count": 1,
   "id": "b7284fd4-e3ab-4494-9027-0d9dd93a2163",
   "metadata": {},
   "outputs": [],
   "source": [
    "import os\n",
    "import time\n",
    "import numpy as np\n",
    "import netCDF4 as nc\n",
    "import argparse\n",
    "\n",
    "from stb import strtobool\n",
    "\n",
    "from msh import load_mesh, load_flow, \\\n",
    "                sort_mesh, sort_flow\n",
    "from ops import trsk_mats\n",
    "\n",
    "from _dx import HH_TINY, UU_TINY\n",
    "from _dx import invariant, diag_vars, tcpu\n",
    "from _dt import step_eqns\n",
    "\n",
    "import torch as tn\n",
    "import torchtt as tt\n",
    "\n",
    "from sympy.ntheory import factorint\n",
    "\n",
    "from temp_init import init_file\n",
    "from timer import Timer"
   ]
  },
  {
   "cell_type": "code",
   "execution_count": 2,
   "id": "8b08a596-be43-4b23-a593-7f001ab232cc",
   "metadata": {},
   "outputs": [],
   "source": [
    "class base: pass\n",
    "\n",
    "cnfg = base()\n",
    "\n",
    "cnfg.save_freq = 100\n",
    "cnfg.stat_freq = 100\n",
    "\n",
    "cnfg.integrate = 'RK44'\n",
    "cnfg.operators = 'TRSK-CV'\n",
    "cnfg.equations = 'SHALLOW-WATER'\n",
    "cnfg.ke_upwind = 'AUST-CONST'\n",
    "cnfg.ke_scheme = 'CENTRE'\n",
    "cnfg.pv_upwind = 'AUST-ADAPT'\n",
    "cnfg.pv_scheme = 'UPWIND'\n",
    "\n",
    "cnfg.du_damp_4 = 0.0\n",
    "cnfg.vu_damp_4 = 0.0\n",
    "\n",
    "cnfg.iteration = 0\n",
    "cnfg.no_rotate = False\n",
    "\n",
    "# testing with simple, quasi-linear\n",
    "# test case on low resolution mesh\n",
    "name = 'io/ltc1_cvt_5.nc'\n",
    "path, file = os.path.split(name)\n",
    "save = os.path.join(path, \"out_\" + file)"
   ]
  },
  {
   "cell_type": "code",
   "execution_count": 3,
   "id": "24e24c46-2d89-4270-b3eb-432ce2237e5e",
   "metadata": {},
   "outputs": [
    {
     "name": "stdout",
     "output_type": "stream",
     "text": [
      "Loading input assets...\n",
      "Creating output file...\n",
      "Reordering mesh data...\n",
      "Forming coefficients...\n",
      "Done.\n"
     ]
    }
   ],
   "source": [
    "print(\"Loading input assets...\")\n",
    "\n",
    "# load mesh + init. conditions\n",
    "mesh = load_mesh(name)\n",
    "flow = load_flow(name, None, lean=True)\n",
    "\n",
    "\n",
    "print(\"Creating output file...\")\n",
    "\n",
    "init_file(name, cnfg, save, mesh, flow)\n",
    "\n",
    "\n",
    "print(\"Reordering mesh data...\")\n",
    "\n",
    "mesh = sort_mesh(mesh, True)\n",
    "flow = sort_flow(flow, mesh, lean=True)\n",
    "\n",
    "u0_edge = flow.uu_edge[-1, :, 0]\n",
    "uu_edge = u0_edge\n",
    "ut_edge = u0_edge * 0.0\n",
    "\n",
    "h0_cell = flow.hh_cell[-1, :, 0]\n",
    "hh_cell = h0_cell\n",
    "ht_cell = h0_cell * 0.0\n",
    "\n",
    "hh_cell = np.maximum(HH_TINY, hh_cell)\n",
    "\n",
    "\n",
    "print(\"Forming coefficients...\")\n",
    "\n",
    "# set sparse spatial operators\n",
    "trsk = trsk_mats(mesh)\n",
    "\n",
    "# remap fe,fc is more accurate?\n",
    "flow.ff_edge = trsk.edge_stub_sums * flow.ff_vert\n",
    "flow.ff_edge = \\\n",
    "    (flow.ff_edge / mesh.edge.area)\n",
    "\n",
    "flow.ff_cell = trsk.cell_kite_sums * flow.ff_vert\n",
    "flow.ff_cell = \\\n",
    "    (flow.ff_cell / mesh.cell.area)\n",
    "\n",
    "flow.ff_cell *= (not cnfg.no_rotate)\n",
    "flow.ff_edge *= (not cnfg.no_rotate)\n",
    "flow.ff_vert *= (not cnfg.no_rotate)\n",
    "\n",
    "kp_sums = np.zeros((\n",
    "    cnfg.iteration // cnfg.stat_freq + 1), dtype=float)\n",
    "en_sums = np.zeros((\n",
    "    cnfg.iteration // cnfg.stat_freq + 1), dtype=float)\n",
    "\n",
    "\n",
    "print('Done.')"
   ]
  },
  {
   "cell_type": "markdown",
   "id": "1e2d1b73-1fa9-4661-a3b4-84b60360cd3f",
   "metadata": {},
   "source": [
    "Let's figure out now to fold a TT operator arising from a nonsquare matrix.\n",
    "\n",
    "In particular, look at `trsk.cell_flux_sums`, which has shape `(ncells, nedges)` and takes values on edges $\\rightarrow$ values on cells.\n",
    "For example, this calculates the TRiSK divergence of the flux at cell edges:\n",
    "```\n",
    "uh_cell = trsk.cell_flux_sums @ uh_edge\n",
    "```\n",
    "\n",
    "We will start with a dummy `uh_edge`."
   ]
  },
  {
   "cell_type": "code",
   "execution_count": 4,
   "id": "69ece14e-d1bd-44d3-b5dd-1b24d1ba64da",
   "metadata": {},
   "outputs": [
    {
     "name": "stdout",
     "output_type": "stream",
     "text": [
      "ncells = 10242\tnedges = 30720\n"
     ]
    }
   ],
   "source": [
    "#uu_edge = np.random.rand(mesh.edge.size)\n",
    "uh_edge = np.ones(mesh.edge.size)\n",
    "print(f'ncells = {mesh.cell.size}\\tnedges = {mesh.edge.size}')"
   ]
  },
  {
   "cell_type": "code",
   "execution_count": 5,
   "id": "1d89a821-01c9-4a34-87c8-a54233e74fb8",
   "metadata": {},
   "outputs": [
    {
     "name": "stdout",
     "output_type": "stream",
     "text": [
      "prime_factors_nedges = [(2, 11), (3, 1), (5, 1)]\n",
      "prime_factors_ncells = [(2, 1), (3, 2), (569, 1)]\n"
     ]
    }
   ],
   "source": [
    "prime_factors_nedges = list( factorint(mesh.edge.size).items() )\n",
    "print(f'prime_factors_nedges = {prime_factors_nedges}')\n",
    "\n",
    "prime_factors_ncells = list( factorint(mesh.cell.size).items() )\n",
    "print(f'prime_factors_ncells = {prime_factors_ncells}')"
   ]
  },
  {
   "cell_type": "code",
   "execution_count": 6,
   "id": "c31c1cd7-b53d-4251-a3c3-f0cc5ce9c886",
   "metadata": {},
   "outputs": [
    {
     "name": "stdout",
     "output_type": "stream",
     "text": [
      "tt_tens_cell_shape = [2, 3, 3, 569]\n",
      "tt_tens_edge_shape = [2, 2, 2, 2, 2, 2, 2, 2, 2, 2, 2, 3, 5]\n"
     ]
    }
   ],
   "source": [
    "tt_tens_cell_shape = []\n",
    "for factor in prime_factors_ncells:\n",
    "    tt_tens_cell_shape += [ factor[0] ] * factor[1]\n",
    "# END for\n",
    "\n",
    "print(f'tt_tens_cell_shape = {tt_tens_cell_shape}')\n",
    "\n",
    "tt_tens_edge_shape = []\n",
    "for factor in prime_factors_nedges:\n",
    "    tt_tens_edge_shape += [ factor[0] ] * factor[1]\n",
    "# END for\n",
    "\n",
    "print(f'tt_tens_edge_shape = {tt_tens_edge_shape}')"
   ]
  },
  {
   "cell_type": "code",
   "execution_count": 7,
   "id": "b4f77f19-07c5-4dcf-bf35-50e983c83cd4",
   "metadata": {},
   "outputs": [
    {
     "name": "stdout",
     "output_type": "stream",
     "text": [
      "[(2, 2), (3, 2), (3, 2), (569, 2), (1, 2), (1, 2), (1, 2), (1, 2), (1, 2), (1, 2), (1, 2), (1, 3), (1, 5)]\n",
      "314634240\n",
      "314634240\n"
     ]
    }
   ],
   "source": [
    "# something like??\n",
    "tt_op_shape =  [(2, 2), (3, 2), (3, 2), (569, 2), (1, 2), (1, 2), (1, 2), (1, 2), (1, 2), (1, 2), (1, 2), (1, 3), (1, 5)]\n",
    "print(tt_op_shape)\n",
    "\n",
    "# the number of elements works out\n",
    "print(2*2*3*2*3*2*569*2*2*2*2*2*2*2*2*3*5)\n",
    "print(mesh.cell.size*mesh.edge.size)"
   ]
  },
  {
   "cell_type": "code",
   "execution_count": 8,
   "id": "f822f387-498c-4b67-9d4a-83155f26dd3b",
   "metadata": {},
   "outputs": [
    {
     "name": "stdout",
     "output_type": "stream",
     "text": [
      "tt_uh_edge = TT with sizes and ranks:\n",
      "N = [2, 2, 2, 2, 2, 2, 2, 2, 2, 2, 2, 3, 5]\n",
      "R = [1, np.int64(1), np.int64(1), np.int64(1), np.int64(1), np.int64(1), np.int64(1), np.int64(1), np.int64(1), np.int64(1), np.int64(1), np.int64(1), np.int64(1), 1]\n",
      "\n",
      "Device: cpu, dtype: torch.float64\n",
      "#entries 30 compression 0.0009765625\n",
      "\n",
      "time to tt.TT(uu_edge) = 0.0016138553619384766\n",
      "\n",
      "tt_cell_flux_sums = TT-matrix with sizes and ranks:\n",
      "M = [2, 3, 3, 569, 1, 1, 1, 1, 1, 1, 1, 1, 1]\n",
      "N = [2, 2, 2, 2, 2, 2, 2, 2, 2, 2, 2, 3, 5]\n",
      "R = [1, 4, np.int64(10), np.int64(26), 1920, 960, 480, 240, 120, 60, 30, 15, 5, 1]\n",
      "Device: cpu, dtype: torch.float64\n",
      "#entries 61725926 compression 0.19618311726021936\n",
      "\n",
      "time to tt.TT(dense_cell_flux_sums) = 30.32522702217102\n"
     ]
    }
   ],
   "source": [
    "tt_op_timer = Timer()\n",
    "tt_round_op_timer = Timer()\n",
    "\n",
    "tt_tens_timer = Timer()\n",
    "\n",
    "# need to get dense version of the operator\n",
    "# to pass to tt.TT()\n",
    "dense_cell_flux_sums = trsk.cell_flux_sums.todense()\n",
    "\n",
    "\n",
    "# form the tt tensor\n",
    "tt_tens_timer.start()\n",
    "tt_uh_edge = tt.TT(uh_edge, tt_tens_edge_shape)\n",
    "tt_tens_timer.stop()\n",
    "\n",
    "print(f'tt_uh_edge = {tt_uh_edge}')\n",
    "print(f'time to tt.TT(uu_edge) = {tt_tens_timer.get_time()}')\n",
    "\n",
    "\n",
    "# form the tt operator\n",
    "tt_op_timer.start()\n",
    "tt_cell_flux_sums = tt.TT(dense_cell_flux_sums, tt_op_shape)\n",
    "tt_op_timer.stop()\n",
    "\n",
    "print(f'\\ntt_cell_flux_sums = {tt_cell_flux_sums}')\n",
    "print(f'time to tt.TT(dense_cell_flux_sums) = {tt_op_timer.get_time()}')"
   ]
  },
  {
   "cell_type": "code",
   "execution_count": 9,
   "id": "9d62012e-631c-4595-8739-07e5f8b1d8de",
   "metadata": {},
   "outputs": [
    {
     "name": "stdout",
     "output_type": "stream",
     "text": [
      "tt_mult_result (before round) = TT with sizes and ranks:\n",
      "N = [2, 3, 3, 569, 1, 1, 1, 1, 1, 1, 1, 1, 1]\n",
      "R = [1, 4, 10, 26, 1920, 960, 480, 240, 120, 60, 30, 15, 5, 1]\n",
      "\n",
      "Device: cpu, dtype: torch.float64\n",
      "#entries 30862918 compression 3013.3682874438587\n",
      "\n",
      "time to @ = 0.03167009353637695\n",
      "\n",
      "tt_mult_result (after round) = TT with sizes and ranks:\n",
      "N = [2, 3, 3, 569, 1, 1, 1, 1, 1, 1, 1, 1, 1]\n",
      "R = [1, 2, 6, 18, 1, 1, 1, 1, 1, 1, 1, 1, 1, 1]\n",
      "\n",
      "Device: cpu, dtype: torch.float64\n",
      "#entries 10615 compression 1.0364186682288616\n",
      "\n",
      "time to round = 1.6153059005737305\n",
      "\n",
      "total time = 3.293951988220215\n"
     ]
    }
   ],
   "source": [
    "tt_mult_timer = Timer()\n",
    "tt_round_timer = Timer()\n",
    "\n",
    "tt_mult_timer.start()\n",
    "tt_mult_result = tt_cell_flux_sums @ tt_uh_edge\n",
    "tt_mult_timer.stop()\n",
    "\n",
    "print(f'tt_mult_result (before round) = {tt_mult_result}')\n",
    "print(f'time to @ = {tt_mult_timer.get_time()}')\n",
    "\n",
    "\n",
    "tt_round_timer.start()\n",
    "tt_mult_result = tt_mult_result.round()\n",
    "tt_round_timer.stop()\n",
    "\n",
    "print(f'\\ntt_mult_result (after round) = {tt_mult_result}')\n",
    "print(f'time to round = {tt_round_timer.get_time()}')\n",
    "\n",
    "print(f'\\ntotal time = {tt_mult_timer.get_time() + tt_round_timer.get_time()}')"
   ]
  },
  {
   "cell_type": "code",
   "execution_count": 10,
   "id": "813ebafe-efab-4dc7-b005-b8e71170fdc6",
   "metadata": {},
   "outputs": [
    {
     "name": "stdout",
     "output_type": "stream",
     "text": [
      "csr mult time = 0.00012874603271484375\n",
      "tt mult time / csr mult time = 19188.661111111112\n"
     ]
    }
   ],
   "source": [
    "csr_mult_timer = Timer()\n",
    "\n",
    "csr_mult_timer.start()\n",
    "csr_mult_result = trsk.cell_flux_sums @ uh_edge\n",
    "csr_mult_timer.stop()\n",
    "\n",
    "print(f'csr mult time = {csr_mult_timer.get_time()}')\n",
    "\n",
    "\n",
    "print(f'tt mult time / csr mult time = {(tt_mult_timer.get_time() + tt_round_timer.get_time()) / csr_mult_timer.get_time()}')"
   ]
  },
  {
   "cell_type": "code",
   "execution_count": 11,
   "id": "d843fcdf-95d2-4109-9ca3-58e4b1d654e7",
   "metadata": {},
   "outputs": [
    {
     "name": "stdout",
     "output_type": "stream",
     "text": [
      "full mult time = 0.036134958267211914\n"
     ]
    }
   ],
   "source": [
    "full_mult_timer = Timer()\n",
    "\n",
    "full_mult_timer.start()\n",
    "full_mult_result = dense_cell_flux_sums @ uh_edge\n",
    "full_mult_timer.stop()\n",
    "\n",
    "print(f'full mult time = {full_mult_timer.get_time()}')"
   ]
  },
  {
   "cell_type": "code",
   "execution_count": 12,
   "id": "83488fc1-d1ed-4b0e-85ec-dfafb5ab2d56",
   "metadata": {},
   "outputs": [
    {
     "name": "stdout",
     "output_type": "stream",
     "text": [
      "csr_err = 4.153273855628752e-19\n",
      "tt_err = 5.544198350717207e-13\n"
     ]
    }
   ],
   "source": [
    "csr_err = np.sum( np.square(full_mult_result - csr_mult_result) )\n",
    "print(f'csr_err = {csr_err}')\n",
    "\n",
    "tt_err = np.sum( np.square(full_mult_result - tt_mult_result.full().flatten().numpy()) )\n",
    "print(f'tt_err = {tt_err}')"
   ]
  },
  {
   "cell_type": "code",
   "execution_count": null,
   "id": "c0a8dc58-abab-4c81-ae5e-ea7ecebecc65",
   "metadata": {},
   "outputs": [],
   "source": []
  }
 ],
 "metadata": {
  "kernelspec": {
   "display_name": "Python 3 (ipykernel)",
   "language": "python",
   "name": "python3"
  },
  "language_info": {
   "codemirror_mode": {
    "name": "ipython",
    "version": 3
   },
   "file_extension": ".py",
   "mimetype": "text/x-python",
   "name": "python",
   "nbconvert_exporter": "python",
   "pygments_lexer": "ipython3",
   "version": "3.12.6"
  }
 },
 "nbformat": 4,
 "nbformat_minor": 5
}
