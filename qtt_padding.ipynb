{
 "cells": [
  {
   "cell_type": "markdown",
   "id": "3c1a0e30-68a9-47ae-88f1-d712fe3d8b72",
   "metadata": {},
   "source": [
    "# Scratch work and preliminary performance notes for `swe-python` with QTT."
   ]
  },
  {
   "cell_type": "code",
   "execution_count": 1,
   "id": "3a6d2244-db10-46f5-a1e7-842f05dffefb",
   "metadata": {},
   "outputs": [],
   "source": [
    "import os\n",
    "import time\n",
    "import numpy as np\n",
    "import netCDF4 as nc\n",
    "import argparse\n",
    "\n",
    "from stb import strtobool\n",
    "\n",
    "from msh import load_mesh, load_flow, \\\n",
    "                sort_mesh, sort_flow\n",
    "from ops import trsk_mats\n",
    "\n",
    "from _dx import HH_TINY, UU_TINY\n",
    "from _dx import invariant, diag_vars, tcpu\n",
    "from _dt import step_eqns\n",
    "\n",
    "import torch as tn\n",
    "import torchtt as tt\n",
    "\n",
    "from sympy.ntheory import factorint\n",
    "import math\n",
    "\n",
    "from temp_init import init_file\n",
    "from timer import Timer"
   ]
  },
  {
   "cell_type": "markdown",
   "id": "3f26cddf-a890-4eae-ba29-93e319e80a3d",
   "metadata": {},
   "source": [
    "## Set up\n",
    "\n",
    "Here, we make a \"fake\" `cnfg` object with defaults since we don't have access to `argparse` from the notebook."
   ]
  },
  {
   "cell_type": "code",
   "execution_count": 2,
   "id": "8fd3a72f-0e60-45d3-b4d9-43776ecba0a0",
   "metadata": {},
   "outputs": [],
   "source": [
    "class base: pass\n",
    "\n",
    "cnfg = base()\n",
    "\n",
    "cnfg.save_freq = 100\n",
    "cnfg.stat_freq = 100\n",
    "\n",
    "cnfg.integrate = 'RK44'\n",
    "cnfg.operators = 'TRSK-CV'\n",
    "cnfg.equations = 'SHALLOW-WATER'\n",
    "cnfg.ke_upwind = 'AUST-CONST'\n",
    "cnfg.ke_scheme = 'CENTRE'\n",
    "cnfg.pv_upwind = 'AUST-ADAPT'\n",
    "cnfg.pv_scheme = 'UPWIND'\n",
    "\n",
    "cnfg.du_damp_4 = 0.0\n",
    "cnfg.vu_damp_4 = 0.0\n",
    "\n",
    "cnfg.iteration = 0\n",
    "cnfg.no_rotate = False\n",
    "\n",
    "# testing with simple, quasi-linear\n",
    "# test case on low resolution mesh\n",
    "name = 'io/ltc1_cvt_5.nc'\n",
    "path, file = os.path.split(name)\n",
    "save = os.path.join(path, \"out_\" + file)"
   ]
  },
  {
   "cell_type": "markdown",
   "id": "b1f2707a-3e5e-4844-ab01-d90d957de778",
   "metadata": {},
   "source": [
    "Load configs, init file, and build the RHS TRiSK operators.\n",
    "\n",
    "The `flow` object stores the current model state, and the `mesh` object stores the mesh itself.\n",
    "\n",
    "The RHS operators are all stored in the `trsk` object -- these are built as `scipy.sparse.csr_matrix` objects (compressed sparse row matricies). Note that we often see lines of the form\n",
    "```\n",
    "trsk.<operator> * <state_vector>\n",
    "```\n",
    "This performs a matrix-vector multiply, using the soon-to-be-depreciated `*` symbol, overloaded with the proper sparse matrix multiplication routine.\n",
    "The modern standard is to use `@` as in `numpy` -- at present, both `*` and `@` do the same thing, with `@` to replace `*` in the next version of `scipy`."
   ]
  },
  {
   "cell_type": "code",
   "execution_count": 3,
   "id": "19a2465b-89fd-4325-98a0-a9e43cce4039",
   "metadata": {},
   "outputs": [
    {
     "name": "stdout",
     "output_type": "stream",
     "text": [
      "Loading input assets...\n",
      "Creating output file...\n",
      "Reordering mesh data...\n",
      "Forming coefficients...\n",
      "Done.\n"
     ]
    }
   ],
   "source": [
    "print(\"Loading input assets...\")\n",
    "\n",
    "# load mesh + init. conditions\n",
    "mesh = load_mesh(name)\n",
    "flow = load_flow(name, None, lean=True)\n",
    "\n",
    "\n",
    "print(\"Creating output file...\")\n",
    "\n",
    "init_file(name, cnfg, save, mesh, flow)\n",
    "\n",
    "\n",
    "print(\"Reordering mesh data...\")\n",
    "\n",
    "mesh = sort_mesh(mesh, True)\n",
    "flow = sort_flow(flow, mesh, lean=True)\n",
    "\n",
    "u0_edge = flow.uu_edge[-1, :, 0]\n",
    "uu_edge = u0_edge\n",
    "ut_edge = u0_edge * 0.0\n",
    "\n",
    "h0_cell = flow.hh_cell[-1, :, 0]\n",
    "hh_cell = h0_cell\n",
    "ht_cell = h0_cell * 0.0\n",
    "\n",
    "hh_cell = np.maximum(HH_TINY, hh_cell)\n",
    "\n",
    "\n",
    "print(\"Forming coefficients...\")\n",
    "\n",
    "# set sparse spatial operators\n",
    "trsk = trsk_mats(mesh)\n",
    "\n",
    "# remap fe,fc is more accurate?\n",
    "flow.ff_edge = trsk.edge_stub_sums * flow.ff_vert\n",
    "flow.ff_edge = \\\n",
    "    (flow.ff_edge / mesh.edge.area)\n",
    "\n",
    "flow.ff_cell = trsk.cell_kite_sums * flow.ff_vert\n",
    "flow.ff_cell = \\\n",
    "    (flow.ff_cell / mesh.cell.area)\n",
    "\n",
    "flow.ff_cell *= (not cnfg.no_rotate)\n",
    "flow.ff_edge *= (not cnfg.no_rotate)\n",
    "flow.ff_vert *= (not cnfg.no_rotate)\n",
    "\n",
    "kp_sums = np.zeros((\n",
    "    cnfg.iteration // cnfg.stat_freq + 1), dtype=float)\n",
    "en_sums = np.zeros((\n",
    "    cnfg.iteration // cnfg.stat_freq + 1), dtype=float)\n",
    "\n",
    "\n",
    "print('Done.')"
   ]
  },
  {
   "cell_type": "markdown",
   "id": "84660347-fcda-47f2-8b1b-ac4e2ef04a53",
   "metadata": {},
   "source": [
    "## QTT representations by padding the data\n",
    "\n",
    "Let's look at `trsk.edge_flux_perp`.\n",
    "This has shape `(nedges, nedges)` and multiplies `uu_edge` (normal velocity at cell edges) to get the tangential velocity at cell edges, e.g.\n",
    "```\n",
    "vv_edge = trsk.edge_flux_perp @ uu_edge\n",
    "```\n",
    "For our performance tests, we will work with a random `uu_edge`.\n",
    "\n",
    "In order to fold our data and operator tensors into a QTT compatable shape, they need to have sizes that are a power of 2. At present, `uu_edge` has size `30720`.\n",
    "Luckly, not far off from from a power of 2, `2**15 = 32768`.\n",
    "We will try padding the vector and operator matrix with zeros to see if that gets us anywhere vs. gettins TTs of shapes depending on a prime factorization of `30720`."
   ]
  },
  {
   "cell_type": "code",
   "execution_count": 4,
   "id": "9c7d0767-4452-4fd5-b1a3-47f8e1d44edb",
   "metadata": {},
   "outputs": [
    {
     "name": "stdout",
     "output_type": "stream",
     "text": [
      "nedges = 30720\n",
      "npad = 2048\n"
     ]
    }
   ],
   "source": [
    "#uu_edge = np.random.rand(mesh.edge.size)\n",
    "uu_edge = np.ones(mesh.edge.size)\n",
    "print(f'nedges = {mesh.edge.size}')\n",
    "\n",
    "npad = 2**15 - mesh.edge.size\n",
    "print(f'npad = {npad}')"
   ]
  },
  {
   "cell_type": "code",
   "execution_count": 5,
   "id": "43dc56bd-2bdc-4827-8eb9-ffb71f3c9a9f",
   "metadata": {},
   "outputs": [
    {
     "name": "stdout",
     "output_type": "stream",
     "text": [
      "uu_edge_pad.shape = (32768,)\n",
      "dense_edge_flux_perp_pad.shape = (32768, 32768)\n"
     ]
    }
   ],
   "source": [
    "uu_edge_pad = np.pad(uu_edge, [(0, npad)])\n",
    "print(f'uu_edge_pad.shape = {uu_edge_pad.shape}')\n",
    "\n",
    "\n",
    "# need to get dense version of the operator\n",
    "dense_edge_flux_perp = trsk.edge_flux_perp.todense()\n",
    "\n",
    "dense_edge_flux_perp_pad = np.pad(dense_edge_flux_perp, [(0, npad), (0, npad)])\n",
    "print(f'dense_edge_flux_perp_pad.shape = {dense_edge_flux_perp_pad.shape}')"
   ]
  },
  {
   "cell_type": "markdown",
   "id": "b3f707d6-cad0-40a1-8068-ef72474cd5e1",
   "metadata": {},
   "source": [
    "Now that we have the padded vector and operator, we know that their QTT shapes will be `qtt_tens_shape = [2] * L` and `qtt_op_shape = [(2, 2)] * L`, where `nedges = 2**L`."
   ]
  },
  {
   "cell_type": "code",
   "execution_count": 6,
   "id": "67dc1ca9-1d15-4560-bea0-85c459aef3e8",
   "metadata": {},
   "outputs": [
    {
     "name": "stdout",
     "output_type": "stream",
     "text": [
      "qtt_tens_shape = [2, 2, 2, 2, 2, 2, 2, 2, 2, 2, 2, 2, 2, 2, 2]\n",
      "qtt_op_shape = [(2, 2), (2, 2), (2, 2), (2, 2), (2, 2), (2, 2), (2, 2), (2, 2), (2, 2), (2, 2), (2, 2), (2, 2), (2, 2), (2, 2), (2, 2)]\n"
     ]
    }
   ],
   "source": [
    "# shapes for QTT representations\n",
    "L = int(math.log(uu_edge_pad.shape[0], 2))\n",
    "qtt_tens_shape = [2] * L\n",
    "qtt_op_shape = [(2, 2)] * L\n",
    "\n",
    "\n",
    "print(f'qtt_tens_shape = {qtt_tens_shape}')\n",
    "print(f'qtt_op_shape = {qtt_op_shape}')"
   ]
  },
  {
   "cell_type": "markdown",
   "id": "e72bd6f6-44ad-432c-ab51-c17a4e3dd4f5",
   "metadata": {},
   "source": [
    "Now, let's form the TT operator and corresponding TT tensor, which will have shapes `qtt_op_shape` and `qtt_tens_shape` respectivly.\n",
    "\n",
    "Note that:\n",
    "- The time to compute and the compression is not any better here with QTT, versus the TT with shapes defined by the prime factorization of `nedges`.\n",
    "    - Actually slightly worse, but the initial vectors are larger so this is fine. "
   ]
  },
  {
   "cell_type": "code",
   "execution_count": 7,
   "id": "c12443a4-af6d-4c02-b710-0bcf41a6d4b9",
   "metadata": {},
   "outputs": [
    {
     "name": "stdout",
     "output_type": "stream",
     "text": [
      "qtt_uu_edge = TT with sizes and ranks:\n",
      "N = [2, 2, 2, 2, 2, 2, 2, 2, 2, 2, 2, 2, 2, 2, 2]\n",
      "R = [1, 2, np.int64(2), np.int64(2), np.int64(1), np.int64(1), np.int64(1), np.int64(1), np.int64(1), np.int64(1), np.int64(1), np.int64(1), np.int64(1), np.int64(1), np.int64(1), 1]\n",
      "\n",
      "Device: cpu, dtype: torch.float64\n",
      "#entries 46 compression 0.00140380859375\n",
      "\n",
      "time to tt.TT(uu_edge_pad) = 0.0018210411071777344\n",
      "\n",
      "qtt_edge_flux_perp = TT-matrix with sizes and ranks:\n",
      "M = [2, 2, 2, 2, 2, 2, 2, 2, 2, 2, 2, 2, 2, 2, 2]\n",
      "N = [2, 2, 2, 2, 2, 2, 2, 2, 2, 2, 2, 2, 2, 2, 2]\n",
      "R = [1, 4, np.int64(10), np.int64(22), np.int64(43), np.int64(88), np.int64(178), np.int64(564), np.int64(1532), np.int64(2900), 1024, 256, 64, 16, 4, 1]\n",
      "Device: cpu, dtype: torch.float64\n",
      "#entries 34708472 compression 0.03232478350400925\n",
      "\n",
      "time to tt.TT(dense_edge_flux_perp_pad) = 164.0189368724823\n"
     ]
    }
   ],
   "source": [
    "qtt_op_timer = Timer()\n",
    "qtt_round_op_timer = Timer()\n",
    "\n",
    "qtt_tens_timer = Timer()\n",
    "\n",
    "# form the tt tensor\n",
    "qtt_tens_timer.start()\n",
    "qtt_uu_edge = tt.TT(uu_edge_pad, qtt_tens_shape)\n",
    "qtt_tens_timer.stop()\n",
    "\n",
    "print(f'qtt_uu_edge = {qtt_uu_edge}')\n",
    "print(f'time to tt.TT(uu_edge_pad) = {qtt_tens_timer.get_time()}')\n",
    "\n",
    "\n",
    "# form the tt operator\n",
    "qtt_op_timer.start()\n",
    "qtt_edge_flux_perp = tt.TT(dense_edge_flux_perp_pad, qtt_op_shape)\n",
    "qtt_op_timer.stop()\n",
    "\n",
    "print(f'\\nqtt_edge_flux_perp = {qtt_edge_flux_perp}')\n",
    "print(f'time to tt.TT(dense_edge_flux_perp_pad) = {qtt_op_timer.get_time()}')"
   ]
  },
  {
   "cell_type": "markdown",
   "id": "059b9e26-b0d9-4f63-aff4-1cca5a755ce3",
   "metadata": {},
   "source": [
    "CSR gives us a compression rate on the order of 1e-4.\n",
    "Two orders of magnitude better than TT.\n",
    "\n",
    "Let's look at multiplication speeds.\n",
    "First, at our TT multiply.\n",
    "Since linear algebra operations on TTs cause the rank of the result to increase, we generally round after each `@` (note the awful compression before rounding).\n",
    "We will time these two perations seperately, but understand that the total time is what is important."
   ]
  },
  {
   "cell_type": "code",
   "execution_count": 8,
   "id": "df32bf72-6cb1-4bb3-8b81-0c9ce23f69a5",
   "metadata": {},
   "outputs": [
    {
     "name": "stdout",
     "output_type": "stream",
     "text": [
      "qtt_mult_result (before round) = TT with sizes and ranks:\n",
      "N = [2, 2, 2, 2, 2, 2, 2, 2, 2, 2, 2, 2, 2, 2, 2]\n",
      "R = [1, 8, 20, 44, 43, 88, 178, 564, 1532, 2900, 1024, 256, 64, 16, 4, 1]\n",
      "\n",
      "Device: cpu, dtype: torch.float64\n",
      "#entries 17357696 compression 529.71484375\n",
      "\n",
      "time to @ = 0.020586013793945312\n",
      "\n",
      "tt_mult_result (after round) = TT with sizes and ranks:\n",
      "N = [2, 2, 2, 2, 2, 2, 2, 2, 2, 2, 2, 2, 2, 2, 2]\n",
      "R = [1, 2, 4, 8, 15, 30, 60, 120, 128, 64, 32, 16, 8, 4, 2, 1]\n",
      "\n",
      "Device: cpu, dtype: torch.float64\n",
      "#entries 71788 compression 2.1907958984375\n",
      "\n",
      "time to round = 0.15366911888122559\n",
      "\n",
      "total time = 0.3485102653503418\n"
     ]
    }
   ],
   "source": [
    "qtt_mult_timer = Timer()\n",
    "qtt_round_timer = Timer()\n",
    "\n",
    "qtt_mult_timer.start()\n",
    "qtt_mult_result = qtt_edge_flux_perp @ qtt_uu_edge\n",
    "qtt_mult_timer.stop()\n",
    "\n",
    "print(f'qtt_mult_result (before round) = {qtt_mult_result}')\n",
    "print(f'time to @ = {qtt_mult_timer.get_time()}')\n",
    "\n",
    "\n",
    "qtt_round_timer.start()\n",
    "qtt_mult_result = qtt_mult_result.round()\n",
    "qtt_round_timer.stop()\n",
    "\n",
    "print(f'\\ntt_mult_result (after round) = {qtt_mult_result}')\n",
    "print(f'time to round = {qtt_round_timer.get_time()}')\n",
    "\n",
    "print(f'\\ntotal time = {qtt_mult_timer.get_time() + qtt_round_timer.get_time()}')"
   ]
  },
  {
   "cell_type": "markdown",
   "id": "fed112ee-2f16-4f1e-9c94-217bf4b7a720",
   "metadata": {},
   "source": [
    "This seems pretty slow, let's look at the CSR multiply and the ratio of the two times.\n",
    "Also, look at the compression for `qtt_mult_result` -- extremely bad even after rounding."
   ]
  },
  {
   "cell_type": "code",
   "execution_count": 9,
   "id": "c63f4c76-e3bb-4c3d-a7cd-4f3bf303bc99",
   "metadata": {},
   "outputs": [
    {
     "name": "stdout",
     "output_type": "stream",
     "text": [
      "csr mult time = 0.0009119510650634766\n",
      "qtt mult time / csr mult time = 286.6192156862745\n"
     ]
    }
   ],
   "source": [
    "csr_mult_timer = Timer()\n",
    "\n",
    "csr_mult_timer.start()\n",
    "csr_mult_result = trsk.edge_flux_perp @ uu_edge\n",
    "csr_mult_timer.stop()\n",
    "\n",
    "print(f'csr mult time = {csr_mult_timer.get_time()}')\n",
    "\n",
    "\n",
    "print(f'qtt mult time / csr mult time = {(qtt_mult_timer.get_time() + qtt_round_timer.get_time()) / csr_mult_timer.get_time()}')"
   ]
  },
  {
   "cell_type": "markdown",
   "id": "af5f7cd1-4578-44ec-b8c7-8be460d7b342",
   "metadata": {},
   "source": [
    "CSR multiply is over 200x faster than the TT multiply + rounding.\n",
    "We could do these TT operations on a GPU, but getting 200x back will be a challenge, and even then we are comparing apples to oranges and dealing with CPU-GPU communication in the full model.\n",
    "\n",
    "In summary, it does not seem that QTT is helping us versus \"standard\" TT."
   ]
  },
  {
   "cell_type": "code",
   "execution_count": 10,
   "id": "2d6c7b33-67cf-44dc-bf81-62e523f273ab",
   "metadata": {},
   "outputs": [
    {
     "data": {
      "text/plain": [
       "array([ 0.        ,  0.21793531, -0.21793362, ...,  0.        ,\n",
       "        0.        ,  0.        ])"
      ]
     },
     "execution_count": 10,
     "metadata": {},
     "output_type": "execute_result"
    }
   ],
   "source": [
    "shape = [2] * (L * 2)\n",
    "edge_flux_perp_pad_tens = dense_edge_flux_perp_pad.reshape(shape)\n",
    "\n",
    "permute = tuple( np.arange(2 * L).reshape([2, 15]).transpose().flatten() )\n",
    "edge_flux_perp_pad_tens = tn.permute(tn.from_numpy(edge_flux_perp_pad_tens), permute)\n",
    "\n",
    "edge_flux_perp_pad_tens = edge_flux_perp_pad_tens.reshape([4] * L)\n",
    "\n",
    "flat = edge_flux_perp_pad_tens.flatten().numpy()\n",
    "flat"
   ]
  },
  {
   "cell_type": "code",
   "execution_count": 12,
   "id": "21501fe5-c867-444b-9b32-b7a7ae50859f",
   "metadata": {},
   "outputs": [
    {
     "name": "stdout",
     "output_type": "stream",
     "text": [
      "opened file\n"
     ]
    }
   ],
   "source": [
    "with open('dense_edge_flux_perp.tsv', 'w') as f:\n",
    "    print('opened file')\n",
    "    for i, x in enumerate(flat):\n",
    "        if x != 0:\n",
    "            f.write(f'{i}\\t{x:f}\\n')\n",
    "    # END for\n",
    "# END with"
   ]
  },
  {
   "cell_type": "code",
   "execution_count": null,
   "id": "a11b2e64-0af9-4a99-9eb1-513ba00a40bc",
   "metadata": {},
   "outputs": [],
   "source": []
  }
 ],
 "metadata": {
  "kernelspec": {
   "display_name": "Python 3 (ipykernel)",
   "language": "python",
   "name": "python3"
  },
  "language_info": {
   "codemirror_mode": {
    "name": "ipython",
    "version": 3
   },
   "file_extension": ".py",
   "mimetype": "text/x-python",
   "name": "python",
   "nbconvert_exporter": "python",
   "pygments_lexer": "ipython3",
   "version": "3.12.7"
  }
 },
 "nbformat": 4,
 "nbformat_minor": 5
}
