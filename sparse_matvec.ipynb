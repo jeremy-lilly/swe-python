{
 "cells": [
  {
   "cell_type": "code",
   "execution_count": 1,
   "id": "2a4bf37c-1ded-4779-bc48-18d985506a6b",
   "metadata": {},
   "outputs": [],
   "source": [
    "import os\n",
    "import time\n",
    "import numpy as np\n",
    "import netCDF4 as nc\n",
    "import argparse\n",
    "\n",
    "from stb import strtobool\n",
    "\n",
    "from msh import load_mesh, load_flow, \\\n",
    "                sort_mesh, sort_flow\n",
    "from ops import trsk_mats\n",
    "\n",
    "from _dx import HH_TINY, UU_TINY\n",
    "from _dx import invariant, diag_vars, tcpu\n",
    "from _dt import step_eqns\n",
    "\n",
    "#import torch\n",
    "import scorch as torch\n",
    "import torchtt as tt\n",
    "\n",
    "from sympy.ntheory import factorint\n",
    "import math\n",
    "import pickle\n",
    "\n",
    "from temp_init import init_file\n",
    "from timer import Timer"
   ]
  },
  {
   "cell_type": "code",
   "execution_count": 2,
   "id": "57fb8187-407a-4a7b-852a-5b957a30f45b",
   "metadata": {},
   "outputs": [],
   "source": [
    "class base: pass\n",
    "\n",
    "cnfg = base()\n",
    "\n",
    "cnfg.save_freq = 100\n",
    "cnfg.stat_freq = 100\n",
    "\n",
    "cnfg.integrate = 'RK44'\n",
    "cnfg.operators = 'TRSK-CV'\n",
    "cnfg.equations = 'SHALLOW-WATER'\n",
    "cnfg.ke_upwind = 'AUST-CONST'\n",
    "cnfg.ke_scheme = 'CENTRE'\n",
    "cnfg.pv_upwind = 'AUST-ADAPT'\n",
    "cnfg.pv_scheme = 'UPWIND'\n",
    "\n",
    "cnfg.du_damp_4 = 0.0\n",
    "cnfg.vu_damp_4 = 0.0\n",
    "\n",
    "cnfg.iteration = 0\n",
    "cnfg.no_rotate = False\n",
    "\n",
    "# testing with simple, quasi-linear\n",
    "# test case on low resolution mesh\n",
    "name = 'io/ltc1_cvt_5.nc'\n",
    "path, file = os.path.split(name)\n",
    "save = os.path.join(path, \"out_\" + file)"
   ]
  },
  {
   "cell_type": "code",
   "execution_count": 3,
   "id": "f63a941f-27ea-4742-9a9f-e97ab3cd19dd",
   "metadata": {},
   "outputs": [
    {
     "name": "stdout",
     "output_type": "stream",
     "text": [
      "Loading input assets...\n",
      "Creating output file...\n",
      "Reordering mesh data...\n",
      "Forming coefficients...\n",
      "Done.\n"
     ]
    }
   ],
   "source": [
    "print(\"Loading input assets...\")\n",
    "\n",
    "# load mesh + init. conditions\n",
    "mesh = load_mesh(name)\n",
    "flow = load_flow(name, None, lean=True)\n",
    "\n",
    "\n",
    "print(\"Creating output file...\")\n",
    "\n",
    "init_file(name, cnfg, save, mesh, flow)\n",
    "\n",
    "\n",
    "print(\"Reordering mesh data...\")\n",
    "\n",
    "mesh = sort_mesh(mesh, True)\n",
    "flow = sort_flow(flow, mesh, lean=True)\n",
    "\n",
    "u0_edge = flow.uu_edge[-1, :, 0]\n",
    "uu_edge = u0_edge\n",
    "ut_edge = u0_edge * 0.0\n",
    "\n",
    "h0_cell = flow.hh_cell[-1, :, 0]\n",
    "hh_cell = h0_cell\n",
    "ht_cell = h0_cell * 0.0\n",
    "\n",
    "hh_cell = np.maximum(HH_TINY, hh_cell)\n",
    "\n",
    "\n",
    "print(\"Forming coefficients...\")\n",
    "\n",
    "# set sparse spatial operators\n",
    "trsk = trsk_mats(mesh)\n",
    "\n",
    "# remap fe,fc is more accurate?\n",
    "flow.ff_edge = trsk.edge_stub_sums * flow.ff_vert\n",
    "flow.ff_edge = \\\n",
    "    (flow.ff_edge / mesh.edge.area)\n",
    "\n",
    "flow.ff_cell = trsk.cell_kite_sums * flow.ff_vert\n",
    "flow.ff_cell = \\\n",
    "    (flow.ff_cell / mesh.cell.area)\n",
    "\n",
    "flow.ff_cell *= (not cnfg.no_rotate)\n",
    "flow.ff_edge *= (not cnfg.no_rotate)\n",
    "flow.ff_vert *= (not cnfg.no_rotate)\n",
    "\n",
    "kp_sums = np.zeros((\n",
    "    cnfg.iteration // cnfg.stat_freq + 1), dtype=float)\n",
    "en_sums = np.zeros((\n",
    "    cnfg.iteration // cnfg.stat_freq + 1), dtype=float)\n",
    "\n",
    "\n",
    "print('Done.')"
   ]
  },
  {
   "cell_type": "code",
   "execution_count": 4,
   "id": "f3c1b05a-9a12-4488-9b25-0fa6c0a05a15",
   "metadata": {},
   "outputs": [],
   "source": [
    "with open('stt.pkl', 'rb') as pkl:\n",
    "    sqtt_mat_cores = pickle.load(pkl)\n",
    "# END with"
   ]
  },
  {
   "cell_type": "code",
   "execution_count": 5,
   "id": "c730d2c1-7971-4dee-ba27-90de707c3bf7",
   "metadata": {},
   "outputs": [
    {
     "name": "stdout",
     "output_type": "stream",
     "text": [
      "nedges = 30720\n",
      "npad = 2048\n",
      "uu_edge_pad.shape = (32768,)\n"
     ]
    }
   ],
   "source": [
    "#uu_edge = np.random.rand(mesh.edge.size)\n",
    "uu_edge = np.ones(mesh.edge.size)\n",
    "print(f'nedges = {mesh.edge.size}')\n",
    "\n",
    "npad = 2**15 - mesh.edge.size\n",
    "print(f'npad = {npad}')\n",
    "\n",
    "uu_edge_pad = np.pad(uu_edge, [(0, npad)])\n",
    "print(f'uu_edge_pad.shape = {uu_edge_pad.shape}')"
   ]
  },
  {
   "cell_type": "code",
   "execution_count": 6,
   "id": "1cb866a0-aa2e-403e-9b45-6a985dd1392e",
   "metadata": {},
   "outputs": [
    {
     "name": "stdout",
     "output_type": "stream",
     "text": [
      "qtt_tens_shape = [2, 2, 2, 2, 2, 2, 2, 2, 2, 2, 2, 2, 2, 2, 2]\n",
      "qtt_op_shape = [(2, 2), (2, 2), (2, 2), (2, 2), (2, 2), (2, 2), (2, 2), (2, 2), (2, 2), (2, 2), (2, 2), (2, 2), (2, 2), (2, 2), (2, 2)]\n",
      "TT with sizes and ranks:\n",
      "N = [2, 2, 2, 2, 2, 2, 2, 2, 2, 2, 2, 2, 2, 2, 2]\n",
      "R = [1, 2, np.int64(2), np.int64(2), np.int64(1), np.int64(1), np.int64(1), np.int64(1), np.int64(1), np.int64(1), np.int64(1), np.int64(1), np.int64(1), np.int64(1), np.int64(1), 1]\n",
      "\n",
      "Device: cpu, dtype: torch.float64\n",
      "#entries 46 compression 0.00140380859375\n",
      "\n"
     ]
    }
   ],
   "source": [
    "# shapes for QTT representations\n",
    "L = int(math.log(uu_edge_pad.shape[0], 2))\n",
    "qtt_tens_shape = [2] * L\n",
    "qtt_op_shape = [(2, 2)] * L\n",
    "\n",
    "\n",
    "print(f'qtt_tens_shape = {qtt_tens_shape}')\n",
    "print(f'qtt_op_shape = {qtt_op_shape}')\n",
    "\n",
    "qtt_uu_edge = tt.TT(uu_edge_pad, qtt_tens_shape)\n",
    "qtt_vec_cores = qtt_uu_edge.cores\n",
    "\n",
    "print(qtt_uu_edge)"
   ]
  },
  {
   "cell_type": "code",
   "execution_count": 38,
   "id": "941a84f1-8cbd-49ee-b855-6e2770b920b5",
   "metadata": {},
   "outputs": [
    {
     "name": "stdout",
     "output_type": "stream",
     "text": [
      "Run this cell twice for timer results --\n",
      "Scorch needs to compile a custom kernel for the first einsum.\n",
      "\n",
      "time to mult and reshape all cores = 3.0994415283203125e-06\n"
     ]
    }
   ],
   "source": [
    "def matvec_core(mat_core, vec_core):\n",
    "    # unclear why this is needed\n",
    "    mat_core = mat_core.type(torch.float)\n",
    "    vec_core = vec_core.type(torch.float)\n",
    "\n",
    "    # unclear why this is needed\n",
    "    vec_core = vec_core.to_sparse()\n",
    "\n",
    "    mult_timer.start()\n",
    "    result_core = torch.einsum('ijkl,mkp->imjlp', mat_core, vec_core)\n",
    "    mult_timer.stop()\n",
    "\n",
    "    # scorch's STensor doesn't like to be reshaped directly\n",
    "    result_core = result_core.to_torch()\n",
    "\n",
    "    mult_timer.start()\n",
    "    result_core = result_core.reshape([ mat_core.shape[0] * vec_core.shape[0],\n",
    "                                        mat_core.shape[1],\n",
    "                                        mat_core.shape[3] * vec_core.shape[2] ])\n",
    "    mult_timer.stop()\n",
    "    \n",
    "    return result_core\n",
    "# END matvec_core()\n",
    "\n",
    "mult_timer = Timer()\n",
    "\n",
    "result_cores = []\n",
    "for i in range(L):\n",
    "    result_core = matvec_core(sqtt_mat_cores[i], qtt_vec_cores[i])\n",
    "    result_cores.append(result_core)\n",
    "# END for\n",
    "\n",
    "print('Run this cell twice for timer results --')\n",
    "print('Scorch needs to compile a custom kernel for the first einsum.')\n",
    "\n",
    "print(f'\\ntime to mult and reshape all cores = {mult_timer.get_time_reset()}')"
   ]
  },
  {
   "cell_type": "code",
   "execution_count": 39,
   "id": "faf6fd80-b500-4c3a-8b5c-d28472196f59",
   "metadata": {},
   "outputs": [
    {
     "name": "stdout",
     "output_type": "stream",
     "text": [
      "result_tt = TT with sizes and ranks:\n",
      "N = [2, 2, 2, 2, 2, 2, 2, 2, 2, 2, 2, 2, 2, 2, 2]\n",
      "R = [1, 8, 20, 44, 43, 88, 178, 564, 16331, 4096, 1024, 256, 64, 16, 4, 1]\n",
      "\n",
      "Device: cpu, dtype: torch.float32\n",
      "#entries 161398328 compression 4925.486083984375\n",
      "\n",
      "result_tt_round = TT with sizes and ranks:\n",
      "N = [2, 2, 2, 2, 2, 2, 2, 2, 2, 2, 2, 2, 2, 2, 2]\n",
      "R = [1, 1, 1, 1, 1, 1, 1, 1, 1, 1, 1, 1, 1, 1, 1, 1]\n",
      "\n",
      "Device: cpu, dtype: torch.float32\n",
      "#entries 30 compression 0.00091552734375\n",
      "\n",
      "time to round = 0.18793869018554688\n"
     ]
    }
   ],
   "source": [
    "round_timer = Timer()\n",
    "\n",
    "result_tt = tt.TT(result_cores)\n",
    "print(f'result_tt = {result_tt}')\n",
    "\n",
    "round_timer.start()\n",
    "result_tt_round = result_tt.round()\n",
    "round_timer.stop()\n",
    "\n",
    "print(f'result_tt_round = {result_tt_round}')\n",
    "print(f'time to round = {round_timer.get_time_reset()}')"
   ]
  },
  {
   "cell_type": "code",
   "execution_count": null,
   "id": "b519366e-e734-4ae5-9293-f6025ab7b739",
   "metadata": {},
   "outputs": [],
   "source": []
  }
 ],
 "metadata": {
  "kernelspec": {
   "display_name": "Python 3 (ipykernel)",
   "language": "python",
   "name": "python3"
  },
  "language_info": {
   "codemirror_mode": {
    "name": "ipython",
    "version": 3
   },
   "file_extension": ".py",
   "mimetype": "text/x-python",
   "name": "python",
   "nbconvert_exporter": "python",
   "pygments_lexer": "ipython3",
   "version": "3.12.7"
  }
 },
 "nbformat": 4,
 "nbformat_minor": 5
}
